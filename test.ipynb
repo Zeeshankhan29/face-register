{
 "cells": [
  {
   "cell_type": "code",
   "execution_count": null,
   "metadata": {},
   "outputs": [],
   "source": [
    "import yaml\n",
    "from src.flora.constants import CONFIG_FILE_PATH \n",
    "from box import ConfigBox\n",
    "\n",
    "path_to_yaml = 'configs\\config.yaml'\n",
    "with open(path_to_yaml) as yaml_file:\n",
    "    content = yaml.safe_load(yaml_file)\n",
    "    new = ConfigBox(content)"
   ]
  },
  {
   "cell_type": "code",
   "execution_count": null,
   "metadata": {},
   "outputs": [],
   "source": [
    "new.artifacts_root"
   ]
  },
  {
   "cell_type": "code",
   "execution_count": null,
   "metadata": {},
   "outputs": [],
   "source": [
    "from pathlib import Path\n",
    "import os\n",
    "import face_recognition\n",
    "import cv2"
   ]
  },
  {
   "cell_type": "code",
   "execution_count": null,
   "metadata": {},
   "outputs": [],
   "source": [
    "def crop_images():\n",
    "    image_dir = Path('artifacts/data_ingestion/images')\n",
    "    current_dir = Path('C:/Users/Zeeshan.khan/vscode_projects/final')\n",
    "    crop = Path('artifacts/data_ingestion/crop_images')\n",
    "    image_path = os.path.join(current_dir,image_dir)\n",
    "    crop_img = os.path.join(current_dir,crop)\n",
    "    files = os.listdir(image_path)\n",
    "    for file in files:\n",
    "        single_file = os.path.join(image_path,file )\n",
    "        filename = os.path.basename(single_file)\n",
    "        \n",
    "        filename = filename.split(\".\")[0]\n",
    "        print(files)\n",
    "        print(filename)\n",
    "        print(single_file)\n",
    "\n",
    "        image = face_recognition.load_image_file(single_file)\n",
    "        \n",
    "        face_locations = face_recognition.face_locations(image,model='cnn')\n",
    "        for face_location in face_locations:\n",
    "\n",
    "            # Print the location of each face in this image\n",
    "            top, right, bottom, left = face_location\n",
    "            print(\"A face is located at pixel location Top: {}, Left: {}, Bottom: {}, Right: {}\".format(top, left, bottom, right))\n",
    "\n",
    "            # You can access the actual face itself like this:\n",
    "            face_image = image[top:bottom, left:right]\n",
    "            crop_dir = crop_img\n",
    "            crop_path = os.path.join(current_dir,crop_dir)\n",
    "            print('crop_path',crop_path)\n",
    "            face_image_rgb = cv2.cvtColor(face_image,cv2.COLOR_BGR2RGB)\n",
    "            cv2.imwrite(f'{crop_path}/{filename}.jpg', face_image_rgb)\n",
    "            pil_image = Image.fromarray(face_image)\n",
    "        \n",
    "            pil_image.show()\n",
    "\n"
   ]
  },
  {
   "cell_type": "code",
   "execution_count": null,
   "metadata": {},
   "outputs": [],
   "source": [
    "crop_images()"
   ]
  },
  {
   "cell_type": "code",
   "execution_count": null,
   "metadata": {},
   "outputs": [],
   "source": [
    "Path('artifacts\\data_ingestion\\images')"
   ]
  },
  {
   "cell_type": "code",
   "execution_count": null,
   "metadata": {},
   "outputs": [],
   "source": [
    "import cv2\n",
    "\n",
    "videoCaptureObject = cv2.VideoCapture(0)\n",
    "result = True\n",
    "while(result):\n",
    "    number_of_images = 1\n",
    "    ret,frame = videoCaptureObject.read()\n",
    "    for i in range(1,number_of_images+1):\n",
    "        \n",
    "        # print(i)\n",
    "        if i<=number_of_images:\n",
    "            import random\n",
    "\n",
    "            randomList=[]\n",
    "       \n",
    "            for i in range(15):\n",
    "                r=random.randint(1,1000)\n",
    "            if r not in randomList:\n",
    "                randomList.append(r)\n",
    "            cv2.imwrite(f\"{r}{i}.jpg\",frame)\n",
    "            result = False\n",
    "            \n",
    "        else:\n",
    "            result = True\n",
    "                \n",
    "videoCaptureObject.release()\n",
    "cv2.destroyAllWindows()"
   ]
  },
  {
   "cell_type": "code",
   "execution_count": null,
   "metadata": {},
   "outputs": [],
   "source": [
    "import pandas as pd"
   ]
  },
  {
   "cell_type": "code",
   "execution_count": null,
   "metadata": {},
   "outputs": [],
   "source": [
    "pd.read_csv('2023-06-06.csv')"
   ]
  },
  {
   "cell_type": "code",
   "execution_count": null,
   "metadata": {},
   "outputs": [],
   "source": []
  },
  {
   "cell_type": "code",
   "execution_count": null,
   "metadata": {},
   "outputs": [],
   "source": [
    "# importing random module\n",
    "import random\n",
    "# resultant random numbers list\n",
    "randomList=[]\n",
    "# traversing the loop 15 times\n",
    "for i in range(15):\n",
    "   # generating a random number in the range 1 to 100\n",
    "   r=random.randint(1,1000)\n",
    "   # checking whether the generated random number is not in the\n",
    "   # randomList\n",
    "   if r not in randomList:\n",
    "      # appending the random number to the resultant list, if the condition is true\n",
    "      randomList.append(r)\n",
    "# printing the resultant random numbers list\n",
    "print(\"non-repeating random numbers are:\")\n",
    "print(randomList)"
   ]
  },
  {
   "cell_type": "code",
   "execution_count": null,
   "metadata": {},
   "outputs": [],
   "source": [
    "import os\n",
    "for file in os.listdir(os.getcwd()):\n",
    "    if file.endswith('.csv'):\n",
    "        print(file)"
   ]
  },
  {
   "cell_type": "code",
   "execution_count": 2,
   "metadata": {},
   "outputs": [
    {
     "ename": "TypeError",
     "evalue": "Argument 'flags' is required to be an integer",
     "output_type": "error",
     "traceback": [
      "\u001b[1;31m---------------------------------------------------------------------------\u001b[0m",
      "\u001b[1;31mTypeError\u001b[0m                                 Traceback (most recent call last)",
      "Cell \u001b[1;32mIn[2], line 8\u001b[0m\n\u001b[0;32m      6\u001b[0m \u001b[39mwhile\u001b[39;00m \u001b[39mTrue\u001b[39;00m:\n\u001b[0;32m      7\u001b[0m     success , frame \u001b[39m=\u001b[39mcap\u001b[39m.\u001b[39mread()\n\u001b[1;32m----> 8\u001b[0m     img \u001b[39m=\u001b[39m cv2\u001b[39m.\u001b[39;49mimread(\u001b[39m'\u001b[39;49m\u001b[39mframe.jpg\u001b[39;49m\u001b[39m'\u001b[39;49m,frame)\n\u001b[0;32m      9\u001b[0m     prediction \u001b[39m=\u001b[39m DeepFace\u001b[39m.\u001b[39manalyze(img, actions\u001b[39m=\u001b[39m[\u001b[39m\"\u001b[39m\u001b[39mgender\u001b[39m\u001b[39m\"\u001b[39m, \u001b[39m\"\u001b[39m\u001b[39mage\u001b[39m\u001b[39m\"\u001b[39m], enforce_detection\u001b[39m=\u001b[39m\u001b[39mFalse\u001b[39;00m)\n\u001b[0;32m     10\u001b[0m     \u001b[39mif\u001b[39;00m \u001b[39mlen\u001b[39m(prediction)\u001b[39m>\u001b[39m\u001b[39m0\u001b[39m:\n",
      "\u001b[1;31mTypeError\u001b[0m: Argument 'flags' is required to be an integer"
     ]
    }
   ],
   "source": [
    "from deepface import DeepFace\n",
    "import cv2\n",
    "cap = cv2.VideoCapture(0)\n",
    "\n",
    "\n",
    "while True:\n",
    "    success , frame =cap.read()\n",
    "    img = cv2.imread('frame.jpg',frame)\n",
    "    prediction = DeepFace.analyze(img, actions=[\"gender\", \"age\"], enforce_detection=False)\n",
    "    if len(prediction)>0:\n",
    "        if \"gender\" in prediction[0]:\n",
    "            gender = prediction[0][\"dominant_gender\"]\n",
    "\n",
    "        else:\n",
    "            gender = 'Unknown'\n",
    "        if \"age\" in prediction[0]:\n",
    "            age = prediction[0][\"age\"]\n",
    "        else:\n",
    "            age = 'Unknown'\n",
    "    else:\n",
    "        age = None\n",
    "        gender = None"
   ]
  },
  {
   "cell_type": "code",
   "execution_count": null,
   "metadata": {},
   "outputs": [],
   "source": []
  }
 ],
 "metadata": {
  "kernelspec": {
   "display_name": "flora",
   "language": "python",
   "name": "python3"
  },
  "language_info": {
   "codemirror_mode": {
    "name": "ipython",
    "version": 3
   },
   "file_extension": ".py",
   "mimetype": "text/x-python",
   "name": "python",
   "nbconvert_exporter": "python",
   "pygments_lexer": "ipython3",
   "version": "3.10.9"
  },
  "orig_nbformat": 4
 },
 "nbformat": 4,
 "nbformat_minor": 2
}
