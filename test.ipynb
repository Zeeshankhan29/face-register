{
 "cells": [
  {
   "cell_type": "code",
   "execution_count": 2,
   "metadata": {},
   "outputs": [],
   "source": [
    "import yaml\n",
    "from src.flora.constants import CONFIG_FILE_PATH \n",
    "from box import ConfigBox\n",
    "\n",
    "path_to_yaml = 'configs\\config.yaml'\n",
    "with open(path_to_yaml) as yaml_file:\n",
    "    content = yaml.safe_load(yaml_file)\n",
    "    new = ConfigBox(content)"
   ]
  },
  {
   "cell_type": "code",
   "execution_count": 4,
   "metadata": {},
   "outputs": [
    {
     "data": {
      "text/plain": [
       "'artifacts'"
      ]
     },
     "execution_count": 4,
     "metadata": {},
     "output_type": "execute_result"
    }
   ],
   "source": [
    "new.artifacts_root"
   ]
  },
  {
   "cell_type": "code",
   "execution_count": 2,
   "metadata": {},
   "outputs": [],
   "source": [
    "from pathlib import Path\n",
    "import os\n",
    "import face_recognition\n",
    "import cv2"
   ]
  },
  {
   "cell_type": "code",
   "execution_count": 5,
   "metadata": {},
   "outputs": [],
   "source": [
    "def crop_images():\n",
    "    image_dir = Path('artifacts/data_ingestion/images')\n",
    "    current_dir = Path('C:/Users/Zeeshan.khan/vscode_projects/final')\n",
    "    crop = Path('artifacts/data_ingestion/crop_images')\n",
    "    image_path = os.path.join(current_dir,image_dir)\n",
    "    crop_img = os.path.join(current_dir,crop)\n",
    "    files = os.listdir(image_path)\n",
    "    for file in files:\n",
    "        single_file = os.path.join(image_path,file )\n",
    "        filename = os.path.basename(single_file)\n",
    "        \n",
    "        filename = filename.split(\".\")[0]\n",
    "        print(files)\n",
    "        print(filename)\n",
    "        print(single_file)\n",
    "\n",
    "        image = face_recognition.load_image_file(single_file)\n",
    "        \n",
    "        face_locations = face_recognition.face_locations(image,model='cnn')\n",
    "        for face_location in face_locations:\n",
    "\n",
    "            # Print the location of each face in this image\n",
    "            top, right, bottom, left = face_location\n",
    "            print(\"A face is located at pixel location Top: {}, Left: {}, Bottom: {}, Right: {}\".format(top, left, bottom, right))\n",
    "\n",
    "            # You can access the actual face itself like this:\n",
    "            face_image = image[top:bottom, left:right]\n",
    "            crop_dir = crop_img\n",
    "            crop_path = os.path.join(current_dir,crop_dir)\n",
    "            print('crop_path',crop_path)\n",
    "            face_image_rgb = cv2.cvtColor(face_image,cv2.COLOR_BGR2RGB)\n",
    "            cv2.imwrite(f'{crop_path}/{filename}.jpg', face_image_rgb)\n",
    "            pil_image = Image.fromarray(face_image)\n",
    "        \n",
    "            pil_image.show()\n",
    "\n"
   ]
  },
  {
   "cell_type": "code",
   "execution_count": 6,
   "metadata": {},
   "outputs": [
    {
     "name": "stdout",
     "output_type": "stream",
     "text": [
      "['Anirudh.png', 'elon.jpg', 'image.jpg', 'jeff.jpg', 'Zeeshan.jpg']\n",
      "Anirudh\n",
      "C:\\Users\\Zeeshan.khan\\vscode_projects\\final\\artifacts\\data_ingestion\\images\\Anirudh.png\n",
      "A face is located at pixel location Top: 746, Left: 98, Bottom: 1354, Right: 707\n",
      "crop_path C:\\Users\\Zeeshan.khan\\vscode_projects\\final\\artifacts\\data_ingestion\\crop_images\n"
     ]
    },
    {
     "ename": "NameError",
     "evalue": "name 'Image' is not defined",
     "output_type": "error",
     "traceback": [
      "\u001b[1;31m---------------------------------------------------------------------------\u001b[0m",
      "\u001b[1;31mNameError\u001b[0m                                 Traceback (most recent call last)",
      "Cell \u001b[1;32mIn[6], line 1\u001b[0m\n\u001b[1;32m----> 1\u001b[0m crop_images()\n",
      "Cell \u001b[1;32mIn[5], line 33\u001b[0m, in \u001b[0;36mcrop_images\u001b[1;34m()\u001b[0m\n\u001b[0;32m     31\u001b[0m face_image_rgb \u001b[39m=\u001b[39m cv2\u001b[39m.\u001b[39mcvtColor(face_image,cv2\u001b[39m.\u001b[39mCOLOR_BGR2RGB)\n\u001b[0;32m     32\u001b[0m cv2\u001b[39m.\u001b[39mimwrite(\u001b[39mf\u001b[39m\u001b[39m'\u001b[39m\u001b[39m{\u001b[39;00mcrop_path\u001b[39m}\u001b[39;00m\u001b[39m/\u001b[39m\u001b[39m{\u001b[39;00mfilename\u001b[39m}\u001b[39;00m\u001b[39m.jpg\u001b[39m\u001b[39m'\u001b[39m, face_image_rgb)\n\u001b[1;32m---> 33\u001b[0m pil_image \u001b[39m=\u001b[39m Image\u001b[39m.\u001b[39mfromarray(face_image)\n\u001b[0;32m     35\u001b[0m pil_image\u001b[39m.\u001b[39mshow()\n",
      "\u001b[1;31mNameError\u001b[0m: name 'Image' is not defined"
     ]
    }
   ],
   "source": [
    "crop_images()"
   ]
  },
  {
   "cell_type": "code",
   "execution_count": 22,
   "metadata": {},
   "outputs": [
    {
     "data": {
      "text/plain": [
       "WindowsPath('artifacts/data_ingestion/images')"
      ]
     },
     "execution_count": 22,
     "metadata": {},
     "output_type": "execute_result"
    }
   ],
   "source": [
    "Path('artifacts\\data_ingestion\\images')"
   ]
  },
  {
   "cell_type": "code",
   "execution_count": 107,
   "metadata": {},
   "outputs": [],
   "source": [
    "import cv2\n",
    "\n",
    "videoCaptureObject = cv2.VideoCapture(0)\n",
    "result = True\n",
    "while(result):\n",
    "    number_of_images = 1\n",
    "    ret,frame = videoCaptureObject.read()\n",
    "    for i in range(1,number_of_images+1):\n",
    "        \n",
    "        # print(i)\n",
    "        if i<=number_of_images:\n",
    "            import random\n",
    "\n",
    "            randomList=[]\n",
    "       \n",
    "            for i in range(15):\n",
    "                r=random.randint(1,1000)\n",
    "            if r not in randomList:\n",
    "                randomList.append(r)\n",
    "            cv2.imwrite(f\"{r}{i}.jpg\",frame)\n",
    "            result = False\n",
    "            \n",
    "        else:\n",
    "            result = True\n",
    "                \n",
    "videoCaptureObject.release()\n",
    "cv2.destroyAllWindows()"
   ]
  },
  {
   "cell_type": "code",
   "execution_count": null,
   "metadata": {},
   "outputs": [],
   "source": []
  },
  {
   "cell_type": "code",
   "execution_count": null,
   "metadata": {},
   "outputs": [],
   "source": []
  },
  {
   "cell_type": "code",
   "execution_count": null,
   "metadata": {},
   "outputs": [],
   "source": []
  },
  {
   "cell_type": "code",
   "execution_count": 105,
   "metadata": {},
   "outputs": [
    {
     "name": "stdout",
     "output_type": "stream",
     "text": [
      "non-repeating random numbers are:\n",
      "[922, 852, 123, 215, 50, 379, 939, 404, 549, 463, 908, 8, 261, 697, 823]\n"
     ]
    }
   ],
   "source": [
    "# importing random module\n",
    "import random\n",
    "# resultant random numbers list\n",
    "randomList=[]\n",
    "# traversing the loop 15 times\n",
    "for i in range(15):\n",
    "   # generating a random number in the range 1 to 100\n",
    "   r=random.randint(1,1000)\n",
    "   # checking whether the generated random number is not in the\n",
    "   # randomList\n",
    "   if r not in randomList:\n",
    "      # appending the random number to the resultant list, if the condition is true\n",
    "      randomList.append(r)\n",
    "# printing the resultant random numbers list\n",
    "print(\"non-repeating random numbers are:\")\n",
    "print(randomList)"
   ]
  },
  {
   "cell_type": "code",
   "execution_count": null,
   "metadata": {},
   "outputs": [],
   "source": []
  }
 ],
 "metadata": {
  "kernelspec": {
   "display_name": "flora",
   "language": "python",
   "name": "python3"
  },
  "language_info": {
   "codemirror_mode": {
    "name": "ipython",
    "version": 3
   },
   "file_extension": ".py",
   "mimetype": "text/x-python",
   "name": "python",
   "nbconvert_exporter": "python",
   "pygments_lexer": "ipython3",
   "version": "3.10.9"
  },
  "orig_nbformat": 4
 },
 "nbformat": 4,
 "nbformat_minor": 2
}
